{
 "cells": [
  {
   "cell_type": "code",
   "execution_count": 1,
   "metadata": {},
   "outputs": [],
   "source": [
    "import pandas as pd\n",
    "import numpy as np\n",
    "import matplotlib.pyplot as plt\n",
    "import seaborn as sns"
   ]
  },
  {
   "cell_type": "code",
   "execution_count": 4,
   "metadata": {},
   "outputs": [],
   "source": [
    "class DataRead: \n",
    "    d=pd.read_csv('http://archive.ics.uci.edu/ml/machine-learning-databases/iris/iris.data') # reading data using pandas\n",
    "    d.columns=np.arange(len(d.columns))\n",
    "    def RowSelect():# selecting any two rows\n",
    "        x=int(input('Enter the first row:'))\n",
    "        y=int(input('Enter the second row:'))\n",
    "        print(DataRead.d.iloc[[x,y]]) "
   ]
  },
  {
   "cell_type": "code",
   "execution_count": 5,
   "metadata": {},
   "outputs": [
    {
     "name": "stdout",
     "output_type": "stream",
     "text": [
      "Enter the first row:2\n",
      "Enter the second row:4\n",
      "     0    1    2    3            4\n",
      "2  4.6  3.1  1.5  0.2  Iris-setosa\n",
      "4  5.4  3.9  1.7  0.4  Iris-setosa\n"
     ]
    }
   ],
   "source": [
    "DataRead.RowSelect()"
   ]
  },
  {
   "cell_type": "code",
   "execution_count": 9,
   "metadata": {},
   "outputs": [],
   "source": [
    "class DataRead1(DataRead):\n",
    "    def plot_corr(df):\n",
    "        sns.heatmap(df.corr())\n",
    "        plt.show()\n",
    "    def RowSelect():\n",
    "        x=int(input('Enter the first row:'))\n",
    "        y=int(input('Enter the second row:'))\n",
    "        z=int(input('Enter the third row:'))\n",
    "        print(DataRead.d.iloc[[x,y,z]])\n",
    "       "
   ]
  },
  {
   "cell_type": "code",
   "execution_count": 10,
   "metadata": {},
   "outputs": [
    {
     "data": {
      "image/png": "[encoded data removed]",
      "text/plain": [
       "<Figure size 432x288 with 2 Axes>"
      ]
     },
     "metadata": {
      "needs_background": "light"
     },
     "output_type": "display_data"
    }
   ],
   "source": [
    "DataRead1.plot_corr(DataRead.d) # correlation plot"
   ]
  },
  {
   "cell_type": "code",
   "execution_count": 11,
   "metadata": {},
   "outputs": [
    {
     "name": "stdout",
     "output_type": "stream",
     "text": [
      "Enter the first row:4\n",
      "Enter the second row:5\n",
      "Enter the third row:6\n",
      "     0    1    2    3            4\n",
      "4  5.4  3.9  1.7  0.4  Iris-setosa\n",
      "5  4.6  3.4  1.4  0.3  Iris-setosa\n",
      "6  5.0  3.4  1.5  0.2  Iris-setosa\n"
     ]
    }
   ],
   "source": [
    "DataRead1.RowSelect() # selecting any 3 rows"
   ]
  }
 ],
 "metadata": {
  "kernelspec": {
   "display_name": "Python 3",
   "language": "python",
   "name": "python3"
  },
  "language_info": {
   "codemirror_mode": {
    "name": "ipython",
    "version": 3
   },
   "file_extension": ".py",
   "mimetype": "text/x-python",
   "name": "python",
   "nbconvert_exporter": "python",
   "pygments_lexer": "ipython3",
   "version": "3.7.4"
  }
 },
 "nbformat": 4,
 "nbformat_minor": 2
}
