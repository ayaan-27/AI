{
  "nbformat": 4,
  "nbformat_minor": 0,
  "metadata": {
    "kernelspec": {
      "display_name": "Python 3",
      "language": "python",
      "name": "python3"
    },
    "language_info": {
      "codemirror_mode": {
        "name": "ipython",
        "version": 3
      },
      "file_extension": ".py",
      "mimetype": "text/x-python",
      "name": "python",
      "nbconvert_exporter": "python",
      "pygments_lexer": "ipython3",
      "version": "3.7.6"
    },
    "colab": {
      "name": "J023_Shopping__Learning.ipynb",
      "provenance": [],
      "include_colab_link": true
    }
  },
  "cells": [
    {
      "cell_type": "markdown",
      "metadata": {
        "id": "view-in-github",
        "colab_type": "text"
      },
      "source": [
        "<a href=\"https://colab.research.google.com/github/ayaan-27/AI/blob/master/Learning/J023_Shopping__Learning.ipynb\" target=\"_parent\"><img src=\"https://colab.research.google.com/assets/colab-badge.svg\" alt=\"Open In Colab\"/></a>"
      ]
    },
    {
      "cell_type": "markdown",
      "metadata": {
        "id": "uQiBOZjJ91aP"
      },
      "source": [
        "## Import Libraries"
      ]
    },
    {
      "cell_type": "code",
      "metadata": {
        "id": "7qVkn-fY91aP"
      },
      "source": [
        "import csv\n",
        "import sys\n",
        "from sklearn.model_selection import train_test_split\n",
        "from sklearn.neighbors import KNeighborsClassifier\n",
        "import numpy as np\n",
        "import pandas as pd\n",
        "from pandas import DataFrame as dframe"
      ],
      "execution_count": 3,
      "outputs": []
    },
    {
      "cell_type": "markdown",
      "metadata": {
        "id": "3MkoSkUZ91aU"
      },
      "source": [
        "#### Define Test Size"
      ]
    },
    {
      "cell_type": "code",
      "metadata": {
        "id": "USArqosL91aU"
      },
      "source": [
        "TEST_SIZE = 0.4"
      ],
      "execution_count": 2,
      "outputs": []
    },
    {
      "cell_type": "markdown",
      "metadata": {
        "id": "kUKCg09H91aX"
      },
      "source": [
        "## Define Main Function"
      ]
    },
    {
      "cell_type": "code",
      "metadata": {
        "id": "pDD3AKY791aY"
      },
      "source": [
        "def main():\n",
        "    \n",
        "    # Load data from spreadsheet and split into train and test sets\n",
        "    evidence, labels = load_data(sys.argv[1])\n",
        "    X_train, X_test, y_train, y_test = train_test_split(evidence, labels, test_size=TEST_SIZE)\n",
        "    # Train model and make predictions\n",
        "    model = train_model(X_train, y_train)\n",
        "    predictions = model.predict(X_test)\n",
        "    sensitivity, specificity = evaluate(y_test, predictions)\n",
        "\n",
        "    # Print results\n",
        "    print(f\"Correct: {(y_test == predictions).sum()}\")\n",
        "    print(f\"Incorrect: {(y_test != predictions).sum()}\")\n",
        "    print(f\"True Positive Rate: {100 * sensitivity:.2f}%\")\n",
        "    print(f\"True Negative Rate: {100 * specificity:.2f}%\")"
      ],
      "execution_count": 4,
      "outputs": []
    },
    {
      "cell_type": "markdown",
      "metadata": {
        "id": "cervHiwO91ab"
      },
      "source": [
        "## Define function to load data"
      ]
    },
    {
      "cell_type": "code",
      "metadata": {
        "id": "kZUSmAQW91ac"
      },
      "source": [
        "def load_data(filename):\n",
        "   \n",
        "    import numpy as np\n",
        "    import pandas as pd\n",
        "    filename = pd.read_csv('/Users/home/Downloads//shopping.csv')\n",
        "    df = filename\n",
        "    month = { 'Feb': 1, 'Mar': 2, 'May': 4, 'June':5, 'Jul':6, 'Aug':7, 'Sep': 8, 'Oct':9, 'Nov': 10, 'Dec': 11}\n",
        "    df.Month = [month[item] for item in df.Month]\n",
        "    vistype = { 'Returning_Visitor': 1, 'New_Visitor': 0, 'Other':0 }\n",
        "    df.VisitorType = [vistype[item] for item in df.VisitorType]\n",
        "    df['Weekend'] = df['Weekend']*1\n",
        "    df['Revenue'] = df['Revenue']*1\n",
        "    \n",
        "    evidence = df.drop(columns = 'Revenue')\n",
        "    \n",
        "    Administrative = np.array(evidence['Administrative'], dtype = int)\n",
        "    Administrative_Duration = np.array(evidence['Administrative_Duration'])\n",
        "    Informational = np.array(evidence['Informational'], dtype = int)\n",
        "    Informational_Duration = np.array(evidence['Informational_Duration'])\n",
        "    ProductRelated = np.array(evidence['ProductRelated'], dtype = int)\n",
        "    ProductRelated_Duration = np.array(evidence['ProductRelated_Duration'])\n",
        "    BounceRates = np.array(evidence['BounceRates'])\n",
        "    ExitRates = np.array(evidence['ExitRates'])\n",
        "    PageValues = np.array(evidence['PageValues'])\n",
        "    SpecialDay = np.array(evidence['SpecialDay'])\n",
        "    Month = np.array(evidence['Month'], dtype = int)\n",
        "    OperatingSystems = np.array(evidence['OperatingSystems'], dtype = int)\n",
        "    Browser = np.array(evidence['Browser'], dtype = int)\n",
        "    Region = np.array(evidence['Region'], dtype = int)\n",
        "    TrafficType = np.array(evidence['TrafficType'], dtype = int)\n",
        "    VisitorType = np.array(evidence['VisitorType'], dtype = int)\n",
        "    Weekend = np.array(evidence['Weekend'], dtype = int)\n",
        "    \n",
        "    evidence = np.array([Administrative, Administrative_Duration, Informational,Informational_Duration, ProductRelated, ProductRelated_Duration, BounceRates, ExitRates, PageValues, SpecialDay, Month, OperatingSystems, Browser, Region, TrafficType, VisitorType, Weekend], dtype = object).T.tolist()\n",
        "    \n",
        "    labels = df['Revenue'].tolist()\n",
        "    \n",
        "    return (evidence, labels)\n",
        "    raise NotImplementedError"
      ],
      "execution_count": null,
      "outputs": []
    },
    {
      "cell_type": "markdown",
      "metadata": {
        "id": "1yvxiDR-91af"
      },
      "source": [
        "## Define function to train model"
      ]
    },
    {
      "cell_type": "code",
      "metadata": {
        "id": "Esry_H1291ag"
      },
      "source": [
        "def train_model(X_train, y_train):\n",
        "   \n",
        "    from sklearn.neighbors import KNeighborsClassifier\n",
        "    model = KNeighborsClassifier(n_neighbors = 1)\n",
        "    model = model.fit(X_train, y_train)\n",
        "    return model\n",
        "    raise NotImplementedError"
      ],
      "execution_count": null,
      "outputs": []
    },
    {
      "cell_type": "markdown",
      "metadata": {
        "id": "wdEBWxGk91ak"
      },
      "source": [
        "## Define function to evaluate model"
      ]
    },
    {
      "cell_type": "code",
      "metadata": {
        "id": "K8_G6MBp91ak"
      },
      "source": [
        "def evaluate(y_test, predictions):    \n",
        "   \n",
        "    from sklearn.metrics import confusion_matrix\n",
        "    result = confusion_matrix(y_test, predictions)\n",
        "    specificity= result[0,0]/(result[0,0]+result[1,0])\n",
        "    sensitivity= result[1,1]/(result[1,1]+result[0,1])\n",
        "    return sensitivity,specificity\n",
        "    \n",
        "    raise NotImplementedError"
      ],
      "execution_count": null,
      "outputs": []
    },
    {
      "cell_type": "markdown",
      "metadata": {
        "id": "G080duAw91an"
      },
      "source": [
        "## Run the main function"
      ]
    },
    {
      "cell_type": "code",
      "metadata": {
        "id": "sRHqIWEV91ao",
        "outputId": "702bd0ff-c9b5-4109-837b-894180b018c7"
      },
      "source": [
        "main()"
      ],
      "execution_count": null,
      "outputs": [
        {
          "output_type": "stream",
          "text": [
            "Correct: 4070\n",
            "Incorrect: 862\n",
            "True Positive Rate: 45.36%\n",
            "True Negative Rate: 88.34%\n"
          ],
          "name": "stdout"
        }
      ]
    },
    {
      "cell_type": "markdown",
      "metadata": {
        "id": "19P4OsPr91ar"
      },
      "source": [
        "## Record results after every run"
      ]
    },
    {
      "cell_type": "markdown",
      "metadata": {
        "id": "zutWhYHq91ar"
      },
      "source": [
        "## First run\n",
        "\n",
        "Correct: 4070\n",
        "\n",
        "Incorrect: 862\n",
        "\n",
        "True Positive Rate: 46.28%\n",
        "\n",
        "True Negative Rate: 87.98%"
      ]
    },
    {
      "cell_type": "markdown",
      "metadata": {
        "id": "3FbH6CX591as"
      },
      "source": [
        "## Second run\n",
        "\n",
        "Correct: 4116\n",
        "    \n",
        "Incorrect: 816\n",
        "    \n",
        "True Positive Rate: 44.33%\n",
        "    \n",
        "True Negative Rate: 89.70%"
      ]
    }
  ]
}