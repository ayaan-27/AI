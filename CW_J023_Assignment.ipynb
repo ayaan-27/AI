{
  "nbformat": 4,
  "nbformat_minor": 0,
  "metadata": {
    "colab": {
      "name": "CW_J023_Assignment.ipynb",
      "provenance": [],
      "authorship_tag": "ABX9TyMsz1GOiVTzKAiipgkVhfQD",
      "include_colab_link": true
    },
    "kernelspec": {
      "name": "python3",
      "display_name": "Python 3"
    }
  },
  "cells": [
    {
      "cell_type": "markdown",
      "metadata": {
        "id": "view-in-github",
        "colab_type": "text"
      },
      "source": [
        "<a href=\"https://colab.research.google.com/github/ayaan-27/AI/blob/master/CW_J023_Assignment.ipynb\" target=\"_parent\"><img src=\"https://colab.research.google.com/assets/colab-badge.svg\" alt=\"Open In Colab\"/></a>"
      ]
    },
    {
      "cell_type": "code",
      "metadata": {
        "id": "akCjqz4XRhsD",
        "colab_type": "code",
        "colab": {}
      },
      "source": [
        "\n",
        "def fact_simple(x):\n",
        "  if x < 0:\n",
        "    print(\"not exists\")\n",
        "  elif x == 0:\n",
        "    print(1)\n",
        "  else:\n",
        "    fact=1\n",
        "    for i in range(1,1+x):\n",
        "      fact=fact*i \n",
        "  print(fact)\n",
        "def factorial_recursion(x):\n",
        "    factor=1\n",
        "    if (x==0):\n",
        "        return factor\n",
        "    else:\n",
        "        return x*factorial_recursion(x-1)"
      ],
      "execution_count": 1,
      "outputs": []
    },
    {
      "cell_type": "code",
      "metadata": {
        "id": "WSD7kwzJRpbV",
        "colab_type": "code",
        "colab": {
          "base_uri": "https://localhost:8080/",
          "height": 34
        },
        "outputId": "4496949a-854d-4fef-cc70-fee33ff1d83b"
      },
      "source": [
        "fact_simple(8)"
      ],
      "execution_count": 2,
      "outputs": [
        {
          "output_type": "stream",
          "text": [
            "40320\n"
          ],
          "name": "stdout"
        }
      ]
    },
    {
      "cell_type": "code",
      "metadata": {
        "id": "Se3O00W8RvRa",
        "colab_type": "code",
        "colab": {}
      },
      "source": [
        "\n",
        "def fibonacci_series(n):\n",
        "  if n < 0:\n",
        "    print(\"not valid\")\n",
        "  elif n == 0:\n",
        "    return 0\n",
        "  elif n == 1:\n",
        "    return 1\n",
        "  else:\n",
        "    return fibonacci_series(n-1)+fibonacci_series(n-2)"
      ],
      "execution_count": 3,
      "outputs": []
    },
    {
      "cell_type": "code",
      "metadata": {
        "id": "9nw7wtpTRy-u",
        "colab_type": "code",
        "colab": {
          "base_uri": "https://localhost:8080/",
          "height": 134
        },
        "outputId": "e9925ce6-7114-4784-c4c1-ca70c9f4c60e"
      },
      "source": [
        "\n",
        "n=int(input(\"Enter the no. of terms:\")) \n",
        "  \n",
        "if n<=0:\n",
        "  print(\"entered number is not valid.\")  \n",
        "else:  \n",
        "   print(\"Fibonacci sequence is:\")  \n",
        "   for i in range(n):  \n",
        "       print(fibonacci_series(i))"
      ],
      "execution_count": 4,
      "outputs": [
        {
          "output_type": "stream",
          "text": [
            "Enter the no. of terms:5\n",
            "Fibonacci sequence is:\n",
            "0\n",
            "1\n",
            "1\n",
            "2\n",
            "3\n"
          ],
          "name": "stdout"
        }
      ]
    },
    {
      "cell_type": "code",
      "metadata": {
        "id": "QX2XWf3wR4PI",
        "colab_type": "code",
        "colab": {}
      },
      "source": [
        "\n",
        "#Binary search\n",
        "list=[25,5342,2648,21,5449]\n",
        "\n",
        "list1=list.copy().sort()\n",
        "\n",
        "list1"
      ],
      "execution_count": 6,
      "outputs": []
    },
    {
      "cell_type": "markdown",
      "metadata": {
        "id": "t9IKWZWdR_Ig",
        "colab_type": "text"
      },
      "source": [
        "Tractable- PTIME (Polynomial Time Solvable)\n",
        "\n",
        "Polynomial - expression where each term is n^k where k can be any whole number\n",
        "\n",
        "Polynomial Runtime - Runtime of the code should be a polynomial. polynomial of degree k where k is a constant, and since it is time n cannot be negative n: input space or dimension eg. O(n^4) n=1 => 1 n=2 => 2^4 n=3 => 3^4 n=4 => 4^4\n",
        "\n",
        "O(n!) nn-1n-2n-3n-4n-5n-6 => It is not a polynomial - Non Polynomial Time (NP)"
      ]
    }
  ]
}