{
  "nbformat": 4,
  "nbformat_minor": 0,
  "metadata": {
    "colab": {
      "name": "Classwork.ipynb",
      "provenance": []
    },
    "kernelspec": {
      "name": "python3",
      "display_name": "Python 3"
    }
  },
  "cells": [
    {
      "cell_type": "code",
      "metadata": {
        "id": "birBmJv-SiSx",
        "colab_type": "code",
        "colab": {}
      },
      "source": [
        "#list\n",
        "a=[1, 2, 3, 4, 5, 'human']\n",
        "type(a)   \n",
        "f=[[1, 2, 3, 4, 5, 'human'], [2, 3, 4, 5, 'human'], [3, 4, 5, 'human']]\n",
        "g={[1, 2, 3, 4, 5, 'human'], [2, 3, 4, 5, 'human'], [3, 4, 5, 'human']} # error\n",
        "h={-1,2,3,4,5,6,7}\n",
        "h.pop()"
      ],
      "execution_count": null,
      "outputs": []
    },
    {
      "cell_type": "code",
      "metadata": {
        "id": "kQsCPl3GSoGD",
        "colab_type": "code",
        "colab": {}
      },
      "source": [
        "#tuple\n",
        "b=(1, 2, 3, 4, 5, 'human') # immutable\n",
        "type(b)"
      ],
      "execution_count": null,
      "outputs": []
    },
    {
      "cell_type": "code",
      "metadata": {
        "id": "OmegXtznSqIu",
        "colab_type": "code",
        "colab": {}
      },
      "source": [
        "d={1, 2, 3, 4, 5, 'human'} # only distinct elements are printed\n",
        "type(d)"
      ],
      "execution_count": null,
      "outputs": []
    },
    {
      "cell_type": "code",
      "metadata": {
        "id": "s5Rn59RdSulL",
        "colab_type": "code",
        "colab": {}
      },
      "source": [
        "e={'list': [1, 2, 3, 4, 5, 'human'],\n",
        "     'tuple': (1, 2, 3, 4, 5, 'human'),\n",
        "     'set': {1, 2, 3, 4, 5, 'human'}}\n",
        "type(e)  "
      ],
      "execution_count": null,
      "outputs": []
    },
    {
      "cell_type": "code",
      "metadata": {
        "id": "nHu_lVE9SyId",
        "colab_type": "code",
        "colab": {
          "base_uri": "https://localhost:8080/",
          "height": 34
        },
        "outputId": "c8a4634d-d1a5-453e-e485-990acc55e9b0"
      },
      "source": [
        "f=[[1, 2, 3, 4, 5, 'human'], [2, 3, 4, 5, 'human'], [3, 4, 5, 'human']]\n",
        "f"
      ],
      "execution_count": 1,
      "outputs": [
        {
          "output_type": "execute_result",
          "data": {
            "text/plain": [
              "[[1, 2, 3, 4, 5, 'human'], [2, 3, 4, 5, 'human'], [3, 4, 5, 'human']]"
            ]
          },
          "metadata": {
            "tags": []
          },
          "execution_count": 1
        }
      ]
    },
    {
      "cell_type": "code",
      "metadata": {
        "id": "bQYWgCOJS6ly",
        "colab_type": "code",
        "colab": {}
      },
      "source": [
        "g={[1, 2, 3, 4, 5, 'human'], [2, 3, 4, 5, 'human'], [3, 4, 5, 'human']} # error unhashable"
      ],
      "execution_count": null,
      "outputs": []
    },
    {
      "cell_type": "code",
      "metadata": {
        "id": "z3oalCePS_TE",
        "colab_type": "code",
        "colab": {}
      },
      "source": [
        "h={-1,2,3,4,5,6,7}\n",
        "h.pop()"
      ],
      "execution_count": null,
      "outputs": []
    }
  ]
}