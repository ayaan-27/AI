{
  "nbformat": 4,
  "nbformat_minor": 0,
  "metadata": {
    "colab": {
      "name": "AI_Cw_J023.ipynb",
      "provenance": [],
      "authorship_tag": "ABX9TyPrd64Rc7GeV4dWXC5Uatiw",
      "include_colab_link": true
    },
    "kernelspec": {
      "name": "python3",
      "display_name": "Python 3"
    }
  },
  "cells": [
    {
      "cell_type": "markdown",
      "metadata": {
        "id": "view-in-github",
        "colab_type": "text"
      },
      "source": [
        "<a href=\"https://colab.research.google.com/github/ayaan-27/AI/blob/master/AI_Cw_J023.ipynb\" target=\"_parent\"><img src=\"https://colab.research.google.com/assets/colab-badge.svg\" alt=\"Open In Colab\"/></a>"
      ]
    },
    {
      "cell_type": "code",
      "metadata": {
        "id": "7-txUT0_JI1f",
        "colab_type": "code",
        "colab": {
          "base_uri": "https://localhost:8080/",
          "height": 34
        },
        "outputId": "4bb6fb76-ea5b-45ea-ac0a-16c9d1258b73"
      },
      "source": [
        "\n",
        "def fact(n):\n",
        "    product = 1\n",
        "    for i in range(n):\n",
        "        product = product * (i+1)  # number of computations n=5\n",
        "    return product\n",
        "\n",
        "print (fact(5))"
      ],
      "execution_count": 1,
      "outputs": [
        {
          "output_type": "stream",
          "text": [
            "120\n"
          ],
          "name": "stdout"
        }
      ]
    },
    {
      "cell_type": "code",
      "metadata": {
        "id": "kShYCQKpJv_k",
        "colab_type": "code",
        "colab": {
          "base_uri": "https://localhost:8080/",
          "height": 50
        },
        "outputId": "f8b42a27-87e8-42f6-8d70-b8639b352af4"
      },
      "source": [
        "%timeit (fact(2))"
      ],
      "execution_count": 2,
      "outputs": [
        {
          "output_type": "stream",
          "text": [
            "The slowest run took 7.43 times longer than the fastest. This could mean that an intermediate result is being cached.\n",
            "1000000 loops, best of 3: 366 ns per loop\n"
          ],
          "name": "stdout"
        }
      ]
    },
    {
      "cell_type": "code",
      "metadata": {
        "id": "qzlB6ydPJ0Np",
        "colab_type": "code",
        "colab": {
          "base_uri": "https://localhost:8080/",
          "height": 34
        },
        "outputId": "b8f44275-554c-4bca-98bb-77f620771625"
      },
      "source": [
        "%timeit (fact(20))"
      ],
      "execution_count": 3,
      "outputs": [
        {
          "output_type": "stream",
          "text": [
            "1000000 loops, best of 3: 1.52 µs per loop\n"
          ],
          "name": "stdout"
        }
      ]
    },
    {
      "cell_type": "code",
      "metadata": {
        "id": "Oll8d8rdJ6qu",
        "colab_type": "code",
        "colab": {
          "base_uri": "https://localhost:8080/",
          "height": 34
        },
        "outputId": "69ba3eab-bb02-4db9-c7e7-db886ce0663b"
      },
      "source": [
        "%timeit (fact(200))"
      ],
      "execution_count": 4,
      "outputs": [
        {
          "output_type": "stream",
          "text": [
            "100000 loops, best of 3: 18.6 µs per loop\n"
          ],
          "name": "stdout"
        }
      ]
    },
    {
      "cell_type": "code",
      "metadata": {
        "id": "6BGfrsxDJ-PP",
        "colab_type": "code",
        "colab": {
          "base_uri": "https://localhost:8080/",
          "height": 34
        },
        "outputId": "7970b40f-bb78-4f0c-8f4a-91830f13692a"
      },
      "source": [
        "%timeit (fact(2000))"
      ],
      "execution_count": 5,
      "outputs": [
        {
          "output_type": "stream",
          "text": [
            "1000 loops, best of 3: 825 µs per loop\n"
          ],
          "name": "stdout"
        }
      ]
    },
    {
      "cell_type": "code",
      "metadata": {
        "id": "7pPIpjRLKAOy",
        "colab_type": "code",
        "colab": {}
      },
      "source": [
        "def sum(a,b):\n",
        "    return a+b"
      ],
      "execution_count": 6,
      "outputs": []
    },
    {
      "cell_type": "code",
      "metadata": {
        "id": "mP3uPcXMKF8r",
        "colab_type": "code",
        "colab": {
          "base_uri": "https://localhost:8080/",
          "height": 34
        },
        "outputId": "2f1a2987-e6de-499d-cf6b-d229e4b47b0d"
      },
      "source": [
        "%timeit sum(2,3)"
      ],
      "execution_count": 7,
      "outputs": [
        {
          "output_type": "stream",
          "text": [
            "10000000 loops, best of 3: 85.8 ns per loop\n"
          ],
          "name": "stdout"
        }
      ]
    },
    {
      "cell_type": "code",
      "metadata": {
        "id": "5uO6fJgkKOGT",
        "colab_type": "code",
        "colab": {
          "base_uri": "https://localhost:8080/",
          "height": 50
        },
        "outputId": "f46722ad-ff7b-4bbb-9566-a98a9ffdfe4f"
      },
      "source": [
        "%timeit sum(20,30)"
      ],
      "execution_count": 8,
      "outputs": [
        {
          "output_type": "stream",
          "text": [
            "The slowest run took 14.35 times longer than the fastest. This could mean that an intermediate result is being cached.\n",
            "10000000 loops, best of 3: 86.5 ns per loop\n"
          ],
          "name": "stdout"
        }
      ]
    },
    {
      "cell_type": "code",
      "metadata": {
        "id": "GmvV7nqnKTzG",
        "colab_type": "code",
        "colab": {
          "base_uri": "https://localhost:8080/",
          "height": 50
        },
        "outputId": "df63e6c0-7ccd-4293-a305-d3f347f2da62"
      },
      "source": [
        "%timeit sum(200,300)"
      ],
      "execution_count": 9,
      "outputs": [
        {
          "output_type": "stream",
          "text": [
            "The slowest run took 21.39 times longer than the fastest. This could mean that an intermediate result is being cached.\n",
            "10000000 loops, best of 3: 97.2 ns per loop\n"
          ],
          "name": "stdout"
        }
      ]
    },
    {
      "cell_type": "code",
      "metadata": {
        "id": "rNXkAe1xKXWY",
        "colab_type": "code",
        "colab": {
          "base_uri": "https://localhost:8080/",
          "height": 50
        },
        "outputId": "61d34b81-b4ea-4d44-844a-2ff216d2394c"
      },
      "source": [
        "%timeit sum(2000,3000)"
      ],
      "execution_count": 10,
      "outputs": [
        {
          "output_type": "stream",
          "text": [
            "The slowest run took 14.09 times longer than the fastest. This could mean that an intermediate result is being cached.\n",
            "10000000 loops, best of 3: 97.2 ns per loop\n"
          ],
          "name": "stdout"
        }
      ]
    },
    {
      "cell_type": "code",
      "metadata": {
        "id": "-P0ty_8iKdA0",
        "colab_type": "code",
        "colab": {
          "base_uri": "https://localhost:8080/",
          "height": 50
        },
        "outputId": "c117f328-af2b-48d0-e3d5-8a1c33b14711"
      },
      "source": [
        "%timeit sum(20000,30000)"
      ],
      "execution_count": 11,
      "outputs": [
        {
          "output_type": "stream",
          "text": [
            "The slowest run took 12.76 times longer than the fastest. This could mean that an intermediate result is being cached.\n",
            "10000000 loops, best of 3: 98.2 ns per loop\n"
          ],
          "name": "stdout"
        }
      ]
    },
    {
      "cell_type": "markdown",
      "metadata": {
        "id": "ZP8OhV0OKeBy",
        "colab_type": "text"
      },
      "source": [
        "NP(Problem) - Solution is in non polynomial time\n",
        "\n",
        "P(Problem) - Max Solution time or Upper Bound is in Polynomial Time O(n^4) ->\n",
        "\n",
        "log n = (n*logn) log 50(base10) - 1.69 ()<n^1 log 500(base10) - 2.69 ()<n^1 log 5000(base10) - 3.69 ()<n^1 for non linear change in n , change is linear"
      ]
    },
    {
      "cell_type": "markdown",
      "metadata": {
        "id": "L1ZCCU3CKk9b",
        "colab_type": "text"
      },
      "source": [
        "# NP () - n!\n",
        "# 5! 120 -> <5^3\n",
        "# 50! 3.0414093e+64 microsecs -> days -> 3.5201497e+53 days\n",
        "# 500!\n",
        "## 5000!\n",
        "NP Complete - > All NP hard problems can be approximated to the problem then it is NP Complete. NP hard - > A problem is NP Hard if its solution is in NP, Cannot be verified in Polynomial Time\n",
        "\n",
        "AI Complete or AI Hard Problems SAT - n-SAT (2-SAT)"
      ]
    }
  ]
}