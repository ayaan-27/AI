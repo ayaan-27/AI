{
  "nbformat": 4,
  "nbformat_minor": 0,
  "metadata": {
    "colab": {
      "name": "J023_Parser_Language.ipynb",
      "provenance": [],
      "authorship_tag": "ABX9TyMI4bSYrIAv1ASpnkQi/4/G",
      "include_colab_link": true
    },
    "kernelspec": {
      "name": "python3",
      "display_name": "Python 3"
    }
  },
  "cells": [
    {
      "cell_type": "markdown",
      "metadata": {
        "id": "view-in-github",
        "colab_type": "text"
      },
      "source": [
        "<a href=\"https://colab.research.google.com/github/ayaan-27/AI/blob/master/Language/J023_Parser_Language.ipynb\" target=\"_parent\"><img src=\"https://colab.research.google.com/assets/colab-badge.svg\" alt=\"Open In Colab\"/></a>"
      ]
    },
    {
      "cell_type": "code",
      "metadata": {
        "id": "iizdjfWmuBV0"
      },
      "source": [
        "import nltk\n",
        "import sys\n",
        "import re\n",
        "\n",
        "TERMINALS = \"\"\"\n",
        "Adj -> \"country\" | \"dreadful\" | \"enigmatical\" | \"little\" | \"moist\" | \"red\"\n",
        "Adv -> \"down\" | \"here\" | \"never\"\n",
        "Conj -> \"and\" | \"until\"\n",
        "Det -> \"a\" | \"an\" | \"his\" | \"my\" | \"the\"\n",
        "N -> \"armchair\" | \"companion\" | \"day\" | \"door\" | \"hand\" | \"he\" | \"himself\"\n",
        "N -> \"holmes\" | \"home\" | \"i\" | \"mess\" | \"paint\" | \"palm\" | \"pipe\" | \"she\"\n",
        "N -> \"smile\" | \"thursday\" | \"walk\" | \"we\" | \"word\"\n",
        "P -> \"at\" | \"before\" | \"in\" | \"of\" | \"on\" | \"to\"\n",
        "V -> \"arrived\" | \"came\" | \"chuckled\" | \"had\" | \"lit\" | \"said\" | \"sat\"\n",
        "V -> \"smiled\" | \"tell\" | \"were\"\n",
        "\"\"\"\n",
        "\n",
        "NONTERMINALS = \"\"\"\n",
        "S -> NP VP | VP NP | S Conj S\n",
        "NP -> N | Det N | NP PP | Det AdjP N\n",
        "VP -> V | V NP | V PP | Adv VP | VP Adv\n",
        "PP -> P NP\n",
        "AdjP -> Adj | Adj AdjP\n",
        "\"\"\"\n",
        "\n",
        "grammar = nltk.CFG.fromstring(NONTERMINALS + TERMINALS)\n",
        "parser = nltk.ChartParser(grammar)"
      ],
      "execution_count": 9,
      "outputs": []
    },
    {
      "cell_type": "code",
      "metadata": {
        "id": "9aPWI2Abvja0",
        "outputId": "5ea2ffa4-bc66-4d72-bf9b-e28a7be77e19",
        "colab": {
          "base_uri": "https://localhost:8080/",
          "height": 67
        }
      },
      "source": [
        "import nltk\n",
        "nltk.download('punkt')"
      ],
      "execution_count": 14,
      "outputs": [
        {
          "output_type": "stream",
          "text": [
            "[nltk_data] Downloading package punkt to /root/nltk_data...\n",
            "[nltk_data]   Unzipping tokenizers/punkt.zip.\n"
          ],
          "name": "stdout"
        },
        {
          "output_type": "execute_result",
          "data": {
            "text/plain": [
              "True"
            ]
          },
          "metadata": {
            "tags": []
          },
          "execution_count": 14
        }
      ]
    },
    {
      "cell_type": "code",
      "metadata": {
        "id": "rq4Au_xuuSlO"
      },
      "source": [
        "def main():\n",
        "\n",
        "    # If filename specified, read sentence from file\n",
        "    if len(sys.argv) == 2:\n",
        "        with open(sys.argv[1]) as f:\n",
        "            s = f.read()\n",
        "\n",
        "    # Otherwise, get sentence as input\n",
        "    else:\n",
        "        s = input(\"Sentence: \")\n",
        "\n",
        "    # Convert input into list of words\n",
        "    s = preprocess(s)\n",
        "\n",
        "    # Attempt to parse sentence\n",
        "    try:\n",
        "        trees = list(parser.parse(s))\n",
        "    except ValueError as e:\n",
        "        print(e)\n",
        "        return\n",
        "    if not trees:\n",
        "        print(\"Could not parse sentence.\")\n",
        "        return\n",
        "\n",
        "    # Print each tree with noun phrase chunks\n",
        "    for tree in trees:\n",
        "        tree.pretty_print()\n",
        "\n",
        "        print(\"Noun Phrase Chunks\")\n",
        "        for np in np_chunk(tree):\n",
        "            print(\" \".join(np.flatten()))\n"
      ],
      "execution_count": 10,
      "outputs": []
    },
    {
      "cell_type": "code",
      "metadata": {
        "id": "yaRYsrypuZ_3"
      },
      "source": [
        "def preprocess(sentence):\n",
        "    \n",
        "    # Regex pattern to match words with at least one alphabetic character\n",
        "    pattern = re.compile(\".*[a-z].*\")\n",
        "\n",
        "    # Word tokenize lower-cased sentence and remove all pure non-alphabetic words\n",
        "    words = nltk.word_tokenize(sentence.lower())\n",
        "    words = [word for word in words if pattern.match(word)]\n",
        "\n",
        "    return words\n"
      ],
      "execution_count": 11,
      "outputs": []
    },
    {
      "cell_type": "code",
      "metadata": {
        "id": "hex9CcVMucyN"
      },
      "source": [
        "def np_chunk(tree):\n",
        "  \n",
        "    np_chunks = []\n",
        "    parented_tree = nltk.tree.ParentedTree.convert(tree)\n",
        "    \n",
        "    for subtree in parented_tree.subtrees(lambda t: t.label() == 'N'):\n",
        "        np_chunks.append(subtree.parent())\n",
        "\n",
        "    return np_chunks\n"
      ],
      "execution_count": 12,
      "outputs": []
    },
    {
      "cell_type": "code",
      "metadata": {
        "id": "7i85B-mGujtc",
        "outputId": "608cd490-65b6-4d88-c50f-234b2a22ab33",
        "colab": {
          "base_uri": "https://localhost:8080/",
          "height": 202
        }
      },
      "source": [
        "if __name__ == \"__main__\":\n",
        "    main()"
      ],
      "execution_count": 18,
      "outputs": [
        {
          "output_type": "stream",
          "text": [
            "Sentence: Holmes sat.\n",
            "        S     \n",
            "   _____|___   \n",
            "  NP        VP\n",
            "  |         |  \n",
            "  N         V \n",
            "  |         |  \n",
            "holmes     sat\n",
            "\n",
            "Noun Phrase Chunks\n",
            "holmes\n"
          ],
          "name": "stdout"
        }
      ]
    }
  ]
}