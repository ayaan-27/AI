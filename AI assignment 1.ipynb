{
  "nbformat": 4,
  "nbformat_minor": 0,
  "metadata": {
    "colab": {
      "name": "Untitled1.ipynb",
      "provenance": []
    },
    "kernelspec": {
      "name": "python3",
      "display_name": "Python 3"
    }
  },
  "cells": [
    {
      "cell_type": "code",
      "metadata": {
        "id": "lbr7Lm07PNdi",
        "colab_type": "code",
        "colab": {}
      },
      "source": [
        "n=int(input())\n",
        "if n%2!=0:\n",
        "    print(\"Weird\")\n",
        "else:\n",
        "    if 2<=n<=5:\n",
        "        print(\"Not Weird\")\n",
        "    if 6<=n<=20:\n",
        "        print(\"Weird\")\n",
        "    if n>20:\n",
        "        print(\"Not Weird\")      "
      ],
      "execution_count": null,
      "outputs": []
    },
    {
      "cell_type": "code",
      "metadata": {
        "id": "Xu6TxTHjQETt",
        "colab_type": "code",
        "colab": {}
      },
      "source": [
        "a=int(input())\n",
        "b=int(input())\n",
        "print(a+b)\n",
        "print(a-b)\n",
        "print(a*b)"
      ],
      "execution_count": null,
      "outputs": []
    },
    {
      "cell_type": "code",
      "metadata": {
        "id": "asDtMUGtQK-b",
        "colab_type": "code",
        "colab": {}
      },
      "source": [
        "a=int(input())\n",
        "b=float(input())\n",
        "print(a//b)\n",
        "print(a/b)"
      ],
      "execution_count": null,
      "outputs": []
    },
    {
      "cell_type": "code",
      "metadata": {
        "id": "0BZPKaGGQRz4",
        "colab_type": "code",
        "colab": {}
      },
      "source": [
        "n=int(input())\n",
        "i=0\n",
        "while i<n:\n",
        "    print(i**2)\n",
        "    i+=1\n"
      ],
      "execution_count": null,
      "outputs": []
    },
    {
      "cell_type": "code",
      "metadata": {
        "id": "-s5th-AkQXn8",
        "colab_type": "code",
        "colab": {}
      },
      "source": [
        "N=int(input())\n",
        "i=1\n",
        "while i<=N:\n",
        "    print(i,end=\"\")\n",
        "    i+=1"
      ],
      "execution_count": null,
      "outputs": []
    },
    {
      "cell_type": "code",
      "metadata": {
        "id": "a6P5QsqZQdE3",
        "colab_type": "code",
        "colab": {}
      },
      "source": [
        "if __name__ == '__main__':\n",
        "    x = int(input())\n",
        "    y = int(input())\n",
        "    z = int(input())\n",
        "    n = int(input())\n",
        "\n",
        "    l=list()\n",
        "    for i in range(x+1):\n",
        "        for j in range(y+1):\n",
        "            for k in range(z+1):\n",
        "                if(i+j+k!=n):\n",
        "                    l.append([i,j,k])\n",
        "    print(l)"
      ],
      "execution_count": null,
      "outputs": []
    }
  ]
}