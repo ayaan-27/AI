{
 "cells": [
  {
   "cell_type": "code",
   "execution_count": 27,
   "metadata": {},
   "outputs": [],
   "source": [
    "import pandas as pd\n",
    "import numpy as np"
   ]
  },
  {
   "cell_type": "code",
   "execution_count": 29,
   "metadata": {},
   "outputs": [],
   "source": [
    "class DataRead:\n",
    "    d=pd.read_csv('http://archive.ics.uci.edu/ml/machine-learning-databases/iris/iris.data')\n",
    "    d.columns=np.arange(len(d.columns))\n",
    "    def RowSelect(x,y):\n",
    "        print(DataRead.d.iloc[x])\n",
    "        print(DataRead.d.iloc[y])"
   ]
  },
  {
   "cell_type": "code",
   "execution_count": 30,
   "metadata": {},
   "outputs": [
    {
     "name": "stdout",
     "output_type": "stream",
     "text": [
      "0            4.7\n",
      "1            3.2\n",
      "2            1.3\n",
      "3            0.2\n",
      "4    Iris-setosa\n",
      "Name: 1, dtype: object\n",
      "0            4.6\n",
      "1            3.1\n",
      "2            1.5\n",
      "3            0.2\n",
      "4    Iris-setosa\n",
      "Name: 2, dtype: object\n"
     ]
    }
   ],
   "source": [
    "DataRead.RowSelect(1,2)"
   ]
  },
  {
   "cell_type": "code",
   "execution_count": 32,
   "metadata": {},
   "outputs": [],
   "source": [
    "class DataRead1(DataRead):\n",
    "    def plot_corr(df):\n",
    "        import matplotlib.pyplot as plt\n",
    "        plt.matshow(df.corr())\n",
    "        plt.show()\n",
    "    def RowSelect(x,y,z):\n",
    "        print(DataRead.d.iloc[x])\n",
    "        print(DataRead.d.iloc[y])\n",
    "        print(DataRead.d.iloc[z])\n",
    "       "
   ]
  },
  {
   "cell_type": "code",
   "execution_count": 34,
   "metadata": {},
   "outputs": [
    {
     "data": {
      "image/png": "[encoded data removed]",
      "text/plain": [
       "<Figure size 288x288 with 1 Axes>"
      ]
     },
     "metadata": {
      "needs_background": "light"
     },
     "output_type": "display_data"
    }
   ],
   "source": [
    "DataRead1.plot_corr(DataRead.d)"
   ]
  },
  {
   "cell_type": "code",
   "execution_count": 22,
   "metadata": {},
   "outputs": [
    {
     "name": "stdout",
     "output_type": "stream",
     "text": [
      "0            4.6\n",
      "1            3.1\n",
      "2            1.5\n",
      "3            0.2\n",
      "4    Iris-setosa\n",
      "Name: 2, dtype: object\n",
      "0              5\n",
      "1            3.6\n",
      "2            1.4\n",
      "3            0.2\n",
      "4    Iris-setosa\n",
      "Name: 3, dtype: object\n",
      "0            5.4\n",
      "1            3.9\n",
      "2            1.7\n",
      "3            0.4\n",
      "4    Iris-setosa\n",
      "Name: 4, dtype: object\n"
     ]
    }
   ],
   "source": [
    "DataRead1.RowSelect(2,3,4)"
   ]
  }
 ],
 "metadata": {
  "kernelspec": {
   "display_name": "Python 3",
   "language": "python",
   "name": "python3"
  },
  "language_info": {
   "codemirror_mode": {
    "name": "ipython",
    "version": 3
   },
   "file_extension": ".py",
   "mimetype": "text/x-python",
   "name": "python",
   "nbconvert_exporter": "python",
   "pygments_lexer": "ipython3",
   "version": "3.7.4"
  }
 },
 "nbformat": 4,
 "nbformat_minor": 2
}
