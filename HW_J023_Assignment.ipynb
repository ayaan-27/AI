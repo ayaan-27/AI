{
  "nbformat": 4,
  "nbformat_minor": 0,
  "metadata": {
    "colab": {
      "name": "HW_J023_Assignment.ipynb",
      "provenance": [],
      "collapsed_sections": [],
      "authorship_tag": "ABX9TyOLsT8PkUbEUCY9A90duYPL",
      "include_colab_link": true
    },
    "kernelspec": {
      "name": "python3",
      "display_name": "Python 3"
    }
  },
  "cells": [
    {
      "cell_type": "markdown",
      "metadata": {
        "id": "view-in-github",
        "colab_type": "text"
      },
      "source": [
        "<a href=\"https://colab.research.google.com/github/ayaan-27/AI/blob/master/HW_J023_Assignment.ipynb\" target=\"_parent\"><img src=\"https://colab.research.google.com/assets/colab-badge.svg\" alt=\"Open In Colab\"/></a>"
      ]
    },
    {
      "cell_type": "markdown",
      "metadata": {
        "id": "BfgpniHPJiu6",
        "colab_type": "text"
      },
      "source": [
        "# Validating Postal Codes\n",
        "\n",
        "Your task is to provide two regular expressions regex_integer_in_range and regex_alternating_repetitive_digit_pair.\n",
        "\n",
        "Where:\n",
        "\n",
        "regex_integer_in_range should match only integers range from to inclusive\n",
        "\n",
        "regex_alternating_repetitive_digit_pair should find alternating repetitive digits pairs in a given string.\n",
        "\n",
        "Both these regular expressions will be used by the provided code template to check if the input string P is a valid postal code using the following expression:"
      ]
    },
    {
      "cell_type": "code",
      "metadata": {
        "id": "J07Mp2q6J9Wo",
        "colab_type": "code",
        "colab": {
          "base_uri": "https://localhost:8080/",
          "height": 50
        },
        "outputId": "d40e1f84-8b00-4d93-856f-d75b31198012"
      },
      "source": [
        "regex_integer_in_range = r\"^[1-9][0-9]{5}$\"\t# Do not delete 'r'\n",
        "regex_alternating_repetitive_digit_pair = r\"(\\d)(?=\\d\\1)\"\t# Do not delete 'r'\n",
        "\n",
        "\n",
        "import re\n",
        "P = input()\n",
        "\n",
        "print (bool(re.match(regex_integer_in_range, P)) and len(re.findall(regex_alternating_repetitive_digit_pair, P)) < 2)"
      ],
      "execution_count": 1,
      "outputs": [
        {
          "output_type": "stream",
          "text": [
            "123435\n",
            "True\n"
          ],
          "name": "stdout"
        }
      ]
    },
    {
      "cell_type": "code",
      "metadata": {
        "id": "EyhLq1FNMAq8",
        "colab_type": "code",
        "colab": {
          "base_uri": "https://localhost:8080/",
          "height": 50
        },
        "outputId": "fc00cd92-0270-4d73-d311-beb6072f0924"
      },
      "source": [
        "regex_integer_in_range = r\"^[1-9][0-9]{5}$\"\t# Do not delete 'r'\n",
        "regex_alternating_repetitive_digit_pair = r\"(\\d)(?=\\d\\1)\"\t# Do not delete 'r'\n",
        "\n",
        "\n",
        "import re\n",
        "P = input()\n",
        "\n",
        "print (bool(re.match(regex_integer_in_range, P)) and len(re.findall(regex_alternating_repetitive_digit_pair, P)) < 2)"
      ],
      "execution_count": 3,
      "outputs": [
        {
          "output_type": "stream",
          "text": [
            "552523\n",
            "False\n"
          ],
          "name": "stdout"
        }
      ]
    },
    {
      "cell_type": "markdown",
      "metadata": {
        "id": "hb-0SH-_MWRd",
        "colab_type": "text"
      },
      "source": [
        "# The Coin Change Problem\n",
        "\n",
        "You are working at the cash counter at a fun-fair, and you have different types of coins available to you in infinite quantities. The value of each coin is already given. Can you determine the number of ways of making change for a particular number of units using the given types of coins?\n",
        "\n",
        "For example, if you have 4 types of coins, and the value of each type is given as 8,3,2,1 respectively, you can make change for 3 units in three ways:{1,1,1} ,{1,2} and {3} .\n",
        "\n",
        "You can solve this problem recursively but will not pass all the test cases without optimizing to eliminate the overlapping subproblems. Think of a way to store and reference previously computed solutions to avoid solving the same subproblem multiple times."
      ]
    },
    {
      "cell_type": "code",
      "metadata": {
        "id": "TKowAmRRMpE5",
        "colab_type": "code",
        "colab": {
          "base_uri": "https://localhost:8080/",
          "height": 67
        },
        "outputId": "1a464d23-c052-48c4-c827-f07d50a03489"
      },
      "source": [
        "a = input() # the first number is the ne whose change we have to find the second is the integer size\n",
        "b = input() #the array of integers\n",
        "\n",
        "c = int(a.split()[0]) #picks the first number from a, the ones whose change we have to find out\n",
        "d = [int(x) for x in b.split()] #splits the numbers from b in to a list\n",
        "\n",
        "d.sort() #sorting in ascending order\n",
        "\n",
        "e = list(range(c + 1)) #creates a list till the c\n",
        "f = len(d) #the length of the array/list of integers\n",
        "\n",
        "h = [([1] * (c +1)) for row in range(f)] #creates multiple lists to compare the combinations\n",
        "\n",
        "for i in range(c+1):\n",
        "  if e[i] % d[0] != 0: h[0][i] = 0\n",
        "\n",
        "#checks the number of possible combinations \n",
        "for i in range(1, f):\n",
        "  for j in range(1, c + 1):\n",
        "    if e[j] < d[i]:\n",
        "      h[i][j] = h[i - 1][j]\n",
        "    else:\n",
        "      h[i][j] = h[i - 1][j] + h[i][j - d[i]]\n",
        "\n",
        "print(h[f - 1][c]) #prints all the possible combinations"
      ],
      "execution_count": 4,
      "outputs": [
        {
          "output_type": "stream",
          "text": [
            "4 6\n",
            "1 2 3 4 5 6\n",
            "5\n"
          ],
          "name": "stdout"
        }
      ]
    },
    {
      "cell_type": "markdown",
      "metadata": {
        "id": "Vp01q9-fNyZk",
        "colab_type": "text"
      },
      "source": [
        "# Sherlock and Cost \n"
      ]
    },
    {
      "cell_type": "code",
      "metadata": {
        "id": "9Bmz8etIOXED",
        "colab_type": "code",
        "colab": {
          "base_uri": "https://localhost:8080/",
          "height": 134
        },
        "outputId": "2ea81eb4-26a4-4573-937a-cd4c3021ea5c"
      },
      "source": [
        "a = int(input()) \n",
        "\n",
        "\"\"\"\n",
        "The first line contains the integer , the number of test cases.\n",
        "Each of the next  pairs of lines is a test case where:\n",
        "- The first line contains an integer , the length of \n",
        "- The next line contains  space-separated integers \n",
        "\"\"\"\n",
        "\n",
        "for i in range(a): #makes a range till the second input line\n",
        "    b = int(input()) \n",
        "    c = [int(x) for x in input().strip().split()] #creating a list of the inputs\n",
        "    d = [0]*(b) #create a list of zeros the size of b\n",
        "    e = [0]*(b) #create a list of zeros the size of b\n",
        "    d[0] = 0\n",
        "    e[0] = 0\n",
        "    for j in range(1,b):\n",
        "        d[j] = max(abs(1-1)+d[j-1],abs(1-c[j-1])+e[j-1]) #return the maximimum value after subtracting the values from the next input for odd terms\n",
        "        e[j] = max(abs(c[j]-1)+d[j-1],abs(c[j]-c[j-1])+e[j-1]) #return the maximimum value after subtracting the values from the next input for even terms\n",
        "    print(max(e[b-1],d[b-1]))\n"
      ],
      "execution_count": 9,
      "outputs": [
        {
          "output_type": "stream",
          "text": [
            "2\n",
            "5\n",
            "3 15 4 12 9\n",
            "50\n",
            "3\n",
            "4 7 9\n",
            "12\n"
          ],
          "name": "stdout"
        }
      ]
    }
  ]
}