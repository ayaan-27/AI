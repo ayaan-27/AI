{
  "nbformat": 4,
  "nbformat_minor": 0,
  "metadata": {
    "colab": {
      "name": "AI_HW_J023_Knapsack.ipynb",
      "provenance": [],
      "collapsed_sections": [],
      "authorship_tag": "ABX9TyOgZPX/X7WbahB8P3HlgPAg",
      "include_colab_link": true
    },
    "kernelspec": {
      "name": "python3",
      "display_name": "Python 3"
    }
  },
  "cells": [
    {
      "cell_type": "markdown",
      "metadata": {
        "id": "view-in-github",
        "colab_type": "text"
      },
      "source": [
        "<a href=\"https://colab.research.google.com/github/ayaan-27/AI/blob/master/AI_HW_J023_Knapsack.ipynb\" target=\"_parent\"><img src=\"https://colab.research.google.com/assets/colab-badge.svg\" alt=\"Open In Colab\"/></a>"
      ]
    },
    {
      "cell_type": "markdown",
      "metadata": {
        "id": "Fya71PhbRMh_",
        "colab_type": "text"
      },
      "source": [
        "#Knapsack Problem\n",
        "\n",
        "Peter has a tree that consists of nodes. The nodes are numbered from through . Each node has an item associated with it. The item associated with node is specified by a size and a value .\n",
        "\n",
        "Peter has a knapsack of size . He wants to choose a subset of nodes (probably none or all); all nodes in the subset are connected. In other words, if nodes and are in the subset, then all nodes lying on the simple path between and should also be presented in the subset. After that, Peter will take the items associated with all nodes in that subset into his knapsack. Of course, the total size of those items must be less than or equal to the size of the knapsack ().\n",
        "\n",
        "He wonders what the largest total value of items he can put into his knapsack is. Your task is calculating this number."
      ]
    },
    {
      "cell_type": "code",
      "metadata": {
        "id": "Wg3wBc7ARRZZ",
        "colab_type": "code",
        "colab": {}
      },
      "source": [
        "import sys\n",
        "import heapq\n",
        "\n",
        "def solve(N, M, S, V, E) :\n",
        "\n",
        "    T = tuple(set() for _ in range(N))\n",
        "    for u,v in E :\n",
        "        T[u].add(v)\n",
        "        T[v].add(u)\n",
        "    Total, order, maxValue = sum(V), sorted(range(n), reverse=True, key=(lambda i : V[i]/S[i])), 0\n",
        "        \n",
        "    def getMaxValue(visited, connected, rejected, size, value, rejectedValue, maxValue) :\n",
        "        #print((visited, connected, rejected, size, value, rejectedValue, maxValue), file = sys.stderr)\n",
        "        if value > maxValue :\n",
        "            maxValue = value\n",
        "            \n",
        "        if not connected :\n",
        "            return maxValue\n",
        "        \n",
        "        i = getBestValue(connected)\n",
        "        if size + S[i] <= M :\n",
        "            maxValue = getMaxValue(visited|{i}, (connected-{i}) | (T[i]-rejected-visited), rejected, size+S[i], value+V[i], rejectedValue, maxValue)\n",
        "            \n",
        "        if Total - (rejectedValue + V[i]) > maxValue :\n",
        "            maxValue = getMaxValue(visited|{i}, connected-{i}, rejected | {i}, size, value, rejectedValue + V[i], maxValue)\n",
        "            \n",
        "        return maxValue\n",
        "\n",
        "    def getBestValue(connected) :\n",
        "        for i in order :\n",
        "            if i in connected :\n",
        "                return i\n",
        "            \n",
        "    for s in order :\n",
        "        maxValue = getMaxValue(set(),{s},set(),0,0,0,maxValue)\n",
        "\n",
        "    return maxValue"
      ],
      "execution_count": 8,
      "outputs": []
    },
    {
      "cell_type": "code",
      "metadata": {
        "id": "YLrezzM3NLRv",
        "colab_type": "code",
        "colab": {}
      },
      "source": [
        "T = int(input())\n",
        "for _ in range(T) :\n",
        "    n,m = (int(_) for _ in input().split())\n",
        "    s = tuple(int(_) for _ in input().split())\n",
        "    v = tuple(int(_) for _ in input().split())\n",
        "    e = tuple((int(_)-1 for _ in input().split()) for _ in range(n-1))\n",
        "    print(solve(n,m,s,v,e))"
      ],
      "execution_count": null,
      "outputs": []
    },
    {
      "cell_type": "markdown",
      "metadata": {
        "id": "sD7d4VF9P06V",
        "colab_type": "text"
      },
      "source": [
        "\n",
        "Let the input be\n",
        "# 1\n",
        "# 3 1\n",
        "# 1 1 1\n",
        "# 1 2 3\n",
        "# 1 2\n",
        "# 1 3\n",
        "# 3\n",
        "\n",
        "\n",
        "The expected output is\n",
        "\n",
        "# 3\n",
        "\n",
        "So we are inputing 1 as the number of test cases, so the loop will run 1 time,\n",
        "\n",
        "the next line contains the numbers 3 & 1 where in 3 denotes how many items are there and 1 denoting the size of knapsack, so at the most there can only be one item.\n",
        "\n",
        "1,1,1 denotes the size of the item asscociated at node i & 1,2,3 is the value of each of the following items.\n",
        "\n",
        "We can now seperate these numbers so that they form a tree or so we know there is a difference between them(edge) so we input 1,2 and 1,3 so 1 is branching towards 2 and another brach to 3\n",
        "\n",
        "From the inputs got we can cleary see that 3 is the largest value and as the knapsack size is 1, the output should be 3."
      ]
    }
  ]
}